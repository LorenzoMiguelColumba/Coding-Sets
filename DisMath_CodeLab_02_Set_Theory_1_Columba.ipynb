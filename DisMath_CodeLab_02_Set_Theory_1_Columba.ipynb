{
  "nbformat": 4,
  "nbformat_minor": 0,
  "metadata": {
    "kernelspec": {
      "display_name": "Python 3",
      "language": "python",
      "name": "python3"
    },
    "language_info": {
      "codemirror_mode": {
        "name": "ipython",
        "version": 3
      },
      "file_extension": ".py",
      "mimetype": "text/x-python",
      "name": "python",
      "nbconvert_exporter": "python",
      "pygments_lexer": "ipython3",
      "version": "3.8.3"
    },
    "colab": {
      "name": "DisMath_CodeLab_02_Set_Theory-1_Columba.ipynb",
      "provenance": [],
      "collapsed_sections": [
        "yPWbU8136uPd",
        "JyW64n4u6uPv"
      ]
    }
  },
  "cells": [
    {
      "cell_type": "markdown",
      "metadata": {
        "id": "U7aT2XKo6uOz"
      },
      "source": [
        "# Set Theory"
      ]
    },
    {
      "cell_type": "markdown",
      "metadata": {
        "id": "6CzKt90t6uO0"
      },
      "source": [
        "This code activity will try to guide you in applying the concepts, methods, and rules of Set Theory through code. We will go through with the data types in which Set Theory can be applied, how to write them in equation form im $\\LaTeX$, and then we will try to look at a practical example through a user's requirement."
      ]
    },
    {
      "cell_type": "markdown",
      "metadata": {
        "id": "gIBtCPof6uO1"
      },
      "source": [
        "### Lists"
      ]
    },
    {
      "cell_type": "markdown",
      "metadata": {
        "id": "_1lsMr0M6uO2"
      },
      "source": [
        "In Python,  the most common iterable collection are lists. In lists, elements are ordered and chageable. Lists are denoted by enclosing objects with square brackets $[ ... ]$. Lists can be accessed through their indices, negative indexing is permitted."
      ]
    },
    {
      "cell_type": "code",
      "metadata": {
        "id": "YA72iSLq6uO2"
      },
      "source": [
        "### Declaration\n",
        "employees = ['John', 'Alex', 'Winston', 'Bob', 'Golbi'] ## Best practice when making a list of objects, list variable names should be in plural form "
      ],
      "execution_count": null,
      "outputs": []
    },
    {
      "cell_type": "code",
      "metadata": {
        "id": "olbcPyhD6uO5"
      },
      "source": [
        "### Single Access\n",
        "employees[-2]"
      ],
      "execution_count": null,
      "outputs": []
    },
    {
      "cell_type": "code",
      "metadata": {
        "id": "GK2p03hW6uO7"
      },
      "source": [
        "### Multiple Access\n",
        "employees[::-1]"
      ],
      "execution_count": null,
      "outputs": []
    },
    {
      "cell_type": "code",
      "metadata": {
        "id": "mZEl2Gp26uO9"
      },
      "source": [
        "### Multiple Access via Loops\n",
        "for employee in employees: ## To make coding a bit more intuitive, we use the singular form of the list variable name to denote its elements.\n",
        "    print(\"Hi \",employee)"
      ],
      "execution_count": null,
      "outputs": []
    },
    {
      "cell_type": "code",
      "metadata": {
        "id": "QomhCRsQ6uPA"
      },
      "source": [
        "### Multiple Access via Loops\n",
        "\n",
        "for i in range(len(employees)): ## You could also use indices for iterations.\n",
        "    if(i%2 == 0):\n",
        "        print(employees[i])"
      ],
      "execution_count": null,
      "outputs": []
    },
    {
      "cell_type": "code",
      "metadata": {
        "id": "Wmlm4WEA6uPC"
      },
      "source": [
        "### Modifying Elements\n",
        "employees[3] = 'John'\n",
        "employees[-1] = 'Jimmy'\n",
        "print(employees)"
      ],
      "execution_count": null,
      "outputs": []
    },
    {
      "cell_type": "code",
      "metadata": {
        "id": "DAGtlxsC6uPF"
      },
      "source": [
        "### Adding Elements\n",
        "# employees.append(\"Elfaba\")\n",
        "\n",
        "employees.insert(2, \"Ozai\")\n",
        "print(employees)"
      ],
      "execution_count": null,
      "outputs": []
    },
    {
      "cell_type": "code",
      "metadata": {
        "id": "ggTChK7v6uPH"
      },
      "source": [
        "### Removing Elements\n",
        "# employees.pop() \n",
        "\n",
        "# employees.remove(\"Ozai\")\n",
        "\n",
        "# del employees[-1]\n",
        "\n",
        "employees.clear()\n",
        "employees"
      ],
      "execution_count": null,
      "outputs": []
    },
    {
      "cell_type": "markdown",
      "metadata": {
        "id": "pSJ_sFzb6uPJ"
      },
      "source": [
        "### Tuples"
      ]
    },
    {
      "cell_type": "markdown",
      "metadata": {
        "id": "c_H9slFx6uPJ"
      },
      "source": [
        "Tuples are another collection data type in Python. There are several key differences between lists and tuples:\n",
        "- Tuples are ordered collections, so order cannot be rearranged or modified.\n",
        "- Since tuples are ordered collections $(a, b) \\neq (b, a)$\n",
        "- They are declared and denoted using parentheses $( ...)$"
      ]
    },
    {
      "cell_type": "code",
      "metadata": {
        "id": "QC15ufKj6uPK"
      },
      "source": [
        "### Declaration\n",
        "pix1_colors = (255, 0 , 0)  ## In image processing, this is called a tuple consisting of channels. \n",
        "                            ##It is structured as (Red, Green, Blue) such that the values in each channe; ranges from 0 - 255 \n",
        "pix2_colors = (64, 128, 111)"
      ],
      "execution_count": null,
      "outputs": []
    },
    {
      "cell_type": "code",
      "metadata": {
        "id": "TVl7z4bN6uPL"
      },
      "source": [
        "### Single Access\n",
        "green = pix2_colors[1]\n",
        "green"
      ],
      "execution_count": null,
      "outputs": []
    },
    {
      "cell_type": "code",
      "metadata": {
        "id": "h3ed0Gzs6uPN"
      },
      "source": [
        "pix1_colors[2] = 128"
      ],
      "execution_count": null,
      "outputs": []
    },
    {
      "cell_type": "code",
      "metadata": {
        "id": "OXT53oKQ6uPP"
      },
      "source": [
        "### Multiple Access\n",
        "pix2_colors[::2]"
      ],
      "execution_count": null,
      "outputs": []
    },
    {
      "cell_type": "code",
      "metadata": {
        "id": "FJIOu_5G6uPR"
      },
      "source": [
        "### Multiple Access via Loops\n",
        "for color in pix2_colors:\n",
        "    print(color)"
      ],
      "execution_count": null,
      "outputs": []
    },
    {
      "cell_type": "code",
      "metadata": {
        "id": "kel4WZBS6uPT"
      },
      "source": [
        "car_xpos = (3, 5, 12, 15)\n",
        "car_ypos = (0, 1, 5, 2)\n",
        "### Multiple Access via Parallel Iteration\n",
        "for pos in zip(car_xpos, car_ypos):\n",
        "    print(f'Coordinates of cars in ordered pair form: {pos}')"
      ],
      "execution_count": null,
      "outputs": []
    },
    {
      "cell_type": "code",
      "metadata": {
        "id": "uErA8Ru86uPV"
      },
      "source": [
        "for px_colors in zip(pix1_colors, pix2_colors):\n",
        "    print(px_colors)"
      ],
      "execution_count": null,
      "outputs": []
    },
    {
      "cell_type": "code",
      "metadata": {
        "id": "-qAWQ3V16uPX"
      },
      "source": [
        "### Modifying Elements\n",
        "\n",
        "car_xpos[0] = 0\n"
      ],
      "execution_count": null,
      "outputs": []
    },
    {
      "cell_type": "code",
      "metadata": {
        "id": "IvxlBaUa6uPZ"
      },
      "source": [
        "### Removing Elements\n",
        "\n",
        "del pix1_colors[0]\n"
      ],
      "execution_count": null,
      "outputs": []
    },
    {
      "cell_type": "code",
      "metadata": {
        "id": "86ikzTPQ6uPb"
      },
      "source": [
        "### Merging Tuples\n",
        "car_pos = car_xpos + car_ypos\n",
        "car_pos"
      ],
      "execution_count": null,
      "outputs": []
    },
    {
      "cell_type": "markdown",
      "metadata": {
        "id": "yPWbU8136uPd"
      },
      "source": [
        "### Sets"
      ]
    },
    {
      "cell_type": "markdown",
      "metadata": {
        "id": "GMcCyAYc6uPd"
      },
      "source": [
        "Sets are collections which are unordered and unindexed. Repititions are not allowed in set structures and they are denoted by curly brackets $\\{ ... \\}$."
      ]
    },
    {
      "cell_type": "code",
      "metadata": {
        "id": "rM8AodKV6uPe"
      },
      "source": [
        "### Declaration\n",
        "bakery_A = {'bread', 'cracker', 'croissant', 'eclair', 'parfait','cannele', 'coffee','tea'}\n",
        "bakery_B = {'bread', 'croissant', 'donuts', 'cinnamon roll', 'cookies','coffee','tea'}\n",
        "bakery_C = {'bread', 'bread', 'bread'}"
      ],
      "execution_count": null,
      "outputs": []
    },
    {
      "cell_type": "code",
      "metadata": {
        "id": "Kanhg5C86uPg",
        "outputId": "7301766e-1a57-47d9-b104-10b216971124"
      },
      "source": [
        "print(bakery_C)"
      ],
      "execution_count": null,
      "outputs": [
        {
          "output_type": "stream",
          "text": [
            "{'bread'}\n"
          ],
          "name": "stdout"
        }
      ]
    },
    {
      "cell_type": "code",
      "metadata": {
        "id": "ur1Zwby66uPi",
        "outputId": "6523c873-6059-4489-c67a-ef1ca19c80ea"
      },
      "source": [
        "### Accessing Elements\n",
        "bakery_A[0]"
      ],
      "execution_count": null,
      "outputs": [
        {
          "output_type": "error",
          "ename": "TypeError",
          "evalue": "'set' object is not subscriptable",
          "traceback": [
            "\u001b[1;31m---------------------------------------------------------------------------\u001b[0m",
            "\u001b[1;31mTypeError\u001b[0m                                 Traceback (most recent call last)",
            "\u001b[1;32m<ipython-input-2-f0826fdf6907>\u001b[0m in \u001b[0;36m<module>\u001b[1;34m\u001b[0m\n\u001b[0;32m      1\u001b[0m \u001b[1;31m### Accessing Elements\u001b[0m\u001b[1;33m\u001b[0m\u001b[1;33m\u001b[0m\u001b[1;33m\u001b[0m\u001b[0m\n\u001b[1;32m----> 2\u001b[1;33m \u001b[0mbakery_A\u001b[0m\u001b[1;33m[\u001b[0m\u001b[1;36m0\u001b[0m\u001b[1;33m]\u001b[0m\u001b[1;33m\u001b[0m\u001b[1;33m\u001b[0m\u001b[0m\n\u001b[0m",
            "\u001b[1;31mTypeError\u001b[0m: 'set' object is not subscriptable"
          ]
        }
      ]
    },
    {
      "cell_type": "code",
      "metadata": {
        "id": "At2LHxGC6uPk",
        "outputId": "16f4d5c4-dd14-40d5-934c-2a398766df4e"
      },
      "source": [
        "### Multiple Access via Loops\n",
        "for product in bakery_A:\n",
        "    print(product)"
      ],
      "execution_count": null,
      "outputs": [
        {
          "output_type": "stream",
          "text": [
            "bread\n",
            "coffee\n",
            "cracker\n",
            "eclair\n",
            "croissant\n",
            "cannele\n",
            "tea\n",
            "parfait\n"
          ],
          "name": "stdout"
        }
      ]
    },
    {
      "cell_type": "code",
      "metadata": {
        "id": "GSAoxWSg6uPl",
        "outputId": "695f21c6-b4aa-4ff9-de47-af2326a663ad"
      },
      "source": [
        "### Removing an Element\n",
        "print(bakery_A)\n",
        "bakery_A.remove('cannele')\n",
        "print(bakery_A)"
      ],
      "execution_count": null,
      "outputs": [
        {
          "output_type": "stream",
          "text": [
            "{'bread', 'coffee', 'cracker', 'eclair', 'croissant', 'cannele', 'tea', 'parfait'}\n",
            "{'bread', 'coffee', 'cracker', 'eclair', 'croissant', 'tea', 'parfait'}\n"
          ],
          "name": "stdout"
        }
      ]
    },
    {
      "cell_type": "code",
      "metadata": {
        "id": "Cb65tzjs6uPn",
        "outputId": "0f410513-25c8-45a7-fa57-0d82043be715"
      },
      "source": [
        "### Membership\n",
        "# print('cannele' in bakery_A)\n",
        "### Subsets\n",
        "order = {'coffee', 'tea', 'donuts'}\n",
        "order.issubset(bakery_A)"
      ],
      "execution_count": null,
      "outputs": [
        {
          "output_type": "execute_result",
          "data": {
            "text/plain": [
              "False"
            ]
          },
          "metadata": {
            "tags": []
          },
          "execution_count": 15
        }
      ]
    },
    {
      "cell_type": "code",
      "metadata": {
        "id": "APoAaerr6uPq",
        "outputId": "2633e86f-5f29-4724-f312-10c8a4ed8794"
      },
      "source": [
        "### Union\n",
        "print(bakery_A)\n",
        "print(bakery_B)\n",
        "baker_st = bakery_A.union(bakery_B)\n",
        "baker_st"
      ],
      "execution_count": null,
      "outputs": [
        {
          "output_type": "stream",
          "text": [
            "{'bread', 'coffee', 'cracker', 'eclair', 'croissant', 'tea', 'parfait'}\n",
            "{'cookies', 'bread', 'coffee', 'cinnamon roll', 'croissant', 'tea', 'donuts'}\n"
          ],
          "name": "stdout"
        },
        {
          "output_type": "execute_result",
          "data": {
            "text/plain": [
              "{'bread',\n",
              " 'cinnamon roll',\n",
              " 'coffee',\n",
              " 'cookies',\n",
              " 'cracker',\n",
              " 'croissant',\n",
              " 'donuts',\n",
              " 'eclair',\n",
              " 'parfait',\n",
              " 'tea'}"
            ]
          },
          "metadata": {
            "tags": []
          },
          "execution_count": 17
        }
      ]
    },
    {
      "cell_type": "code",
      "metadata": {
        "id": "8Tdal0fo6uPs",
        "outputId": "4807af7f-3648-49bd-cc1f-6b8e44f825c1"
      },
      "source": [
        "### Intersection\n",
        "bakery_A.intersection(bakery_B)"
      ],
      "execution_count": null,
      "outputs": [
        {
          "output_type": "execute_result",
          "data": {
            "text/plain": [
              "{'bread', 'coffee', 'croissant', 'tea'}"
            ]
          },
          "metadata": {
            "tags": []
          },
          "execution_count": 18
        }
      ]
    },
    {
      "cell_type": "code",
      "metadata": {
        "id": "C6eAP6OY6uPt",
        "outputId": "a19eeb4c-69f8-48d0-f801-4a220a846a4b"
      },
      "source": [
        "### Difference\n",
        "### Unique elements that is in Bakery but not in Bakery B\n",
        "bakery_B.difference(bakery_A)"
      ],
      "execution_count": null,
      "outputs": [
        {
          "output_type": "execute_result",
          "data": {
            "text/plain": [
              "{'cinnamon roll', 'cookies', 'donuts'}"
            ]
          },
          "metadata": {
            "tags": []
          },
          "execution_count": 20
        }
      ]
    },
    {
      "cell_type": "markdown",
      "metadata": {
        "id": "JyW64n4u6uPv"
      },
      "source": [
        "### Dictionaries"
      ]
    },
    {
      "cell_type": "markdown",
      "metadata": {
        "id": "ckhqpjXy6uPw"
      },
      "source": [
        "Dictionaries are collections which is unordered, changeable like sets but are indexed. Like sets, they are denoted witn $\\{...\\}$ but objects are characterized by <b>keys</b> and described using <b>values</b>."
      ]
    },
    {
      "cell_type": "code",
      "metadata": {
        "id": "MTmFC3bV6uPw"
      },
      "source": [
        "### Declaration\n",
        "bakery_A_prices = {'bread' : 60, \n",
        "            'cracker': 15, \n",
        "            'croissant': 40, \n",
        "           }"
      ],
      "execution_count": null,
      "outputs": []
    },
    {
      "cell_type": "code",
      "metadata": {
        "id": "wsuRW9oH6uPy",
        "outputId": "bd4b59ea-13d9-4276-c960-63b25383c271"
      },
      "source": [
        "## Accessing\n",
        "bakery_A_prices['bread']"
      ],
      "execution_count": null,
      "outputs": [
        {
          "output_type": "execute_result",
          "data": {
            "text/plain": [
              "60"
            ]
          },
          "metadata": {
            "tags": []
          },
          "execution_count": 22
        }
      ]
    },
    {
      "cell_type": "code",
      "metadata": {
        "id": "SBUagaIJ6uP1",
        "outputId": "a96e343e-9874-4861-aa6c-7bc9bfe45e44"
      },
      "source": [
        "## Accessing via Loops\n",
        "for product in bakery_A_prices:\n",
        "    print(product)"
      ],
      "execution_count": null,
      "outputs": [
        {
          "output_type": "stream",
          "text": [
            "bread\n",
            "cracker\n",
            "croissant\n"
          ],
          "name": "stdout"
        }
      ]
    },
    {
      "cell_type": "code",
      "metadata": {
        "id": "pNwDHNQ46uP2",
        "outputId": "faa2f203-46f7-4892-95ee-2c1bb1241f76"
      },
      "source": [
        "for product in bakery_A_prices:\n",
        "    print(bakery_A_prices[product])"
      ],
      "execution_count": null,
      "outputs": [
        {
          "output_type": "stream",
          "text": [
            "60\n",
            "15\n",
            "40\n"
          ],
          "name": "stdout"
        }
      ]
    },
    {
      "cell_type": "code",
      "metadata": {
        "id": "pnjmj-PK6uP4",
        "outputId": "53d73841-bb3a-4b16-bdd5-269c0dfa241e"
      },
      "source": [
        "for price in bakery_A_prices.values():\n",
        "    print(price)"
      ],
      "execution_count": null,
      "outputs": [
        {
          "output_type": "stream",
          "text": [
            "60\n",
            "15\n",
            "40\n"
          ],
          "name": "stdout"
        }
      ]
    },
    {
      "cell_type": "code",
      "metadata": {
        "id": "cqUY6UwZ6uP5",
        "outputId": "8dcad72f-a957-44fa-ced6-b8f2c0dcbab3"
      },
      "source": [
        "for product, price in bakery_A_prices.items():\n",
        "    print(product, price)"
      ],
      "execution_count": null,
      "outputs": [
        {
          "output_type": "stream",
          "text": [
            "bread 60\n",
            "cracker 15\n",
            "croissant 40\n"
          ],
          "name": "stdout"
        }
      ]
    },
    {
      "cell_type": "code",
      "metadata": {
        "id": "DA0kKAZh6uP7",
        "outputId": "2ab4ee2a-c50d-4dfb-ce24-67c82d38bbe6"
      },
      "source": [
        "## Update / Modification\n",
        "print(bakery_A_prices['bread'])\n",
        "bakery_A_prices['bread'] *= 0.8\n",
        "print(bakery_A_prices['bread'])"
      ],
      "execution_count": null,
      "outputs": [
        {
          "output_type": "stream",
          "text": [
            "48.0\n",
            "38.400000000000006\n"
          ],
          "name": "stdout"
        }
      ]
    },
    {
      "cell_type": "code",
      "metadata": {
        "id": "7OZek9wR6uP9",
        "outputId": "411f1d72-a421-4a5b-953f-083de39e18e3"
      },
      "source": [
        "## Adding Elements\n",
        "print(bakery_A_prices)\n",
        "bakery_A_prices['coffee'] = 110\n",
        "print(bakery_A_prices)"
      ],
      "execution_count": null,
      "outputs": [
        {
          "output_type": "stream",
          "text": [
            "{'bread': 38.400000000000006, 'cracker': 15, 'croissant': 40}\n",
            "{'bread': 38.400000000000006, 'cracker': 15, 'croissant': 40, 'coffee': 110}\n"
          ],
          "name": "stdout"
        }
      ]
    },
    {
      "cell_type": "code",
      "metadata": {
        "id": "bj77dZJ_6uP-",
        "outputId": "a4517e52-63a9-4f93-8806-a69e3f46be74"
      },
      "source": [
        "## Removing Elements\n",
        "print(bakery_A_prices)\n",
        "print(bakery_A_prices.pop('cracker'))\n",
        "print(bakery_A_prices)"
      ],
      "execution_count": null,
      "outputs": [
        {
          "output_type": "stream",
          "text": [
            "{'bread': 38.400000000000006, 'cracker': 15, 'croissant': 40, 'coffee': 110}\n",
            "15\n",
            "{'bread': 38.400000000000006, 'croissant': 40, 'coffee': 110}\n"
          ],
          "name": "stdout"
        }
      ]
    },
    {
      "cell_type": "code",
      "metadata": {
        "id": "9u3DtCsu6uQA"
      },
      "source": [
        ""
      ],
      "execution_count": null,
      "outputs": []
    },
    {
      "cell_type": "code",
      "metadata": {
        "id": "R9WY4PcQ6uQC"
      },
      "source": [
        ""
      ],
      "execution_count": null,
      "outputs": []
    },
    {
      "cell_type": "code",
      "metadata": {
        "id": "naiS9-yC6uQE"
      },
      "source": [
        ""
      ],
      "execution_count": null,
      "outputs": []
    },
    {
      "cell_type": "code",
      "metadata": {
        "id": "HSPbrj736uQG"
      },
      "source": [
        ""
      ],
      "execution_count": null,
      "outputs": []
    },
    {
      "cell_type": "code",
      "metadata": {
        "id": "EEf_zYdz6uQJ"
      },
      "source": [
        ""
      ],
      "execution_count": null,
      "outputs": []
    },
    {
      "cell_type": "code",
      "metadata": {
        "id": "81EuLe9O6uQM"
      },
      "source": [
        ""
      ],
      "execution_count": null,
      "outputs": []
    },
    {
      "cell_type": "code",
      "metadata": {
        "id": "ightw3UT6uQO"
      },
      "source": [
        ""
      ],
      "execution_count": null,
      "outputs": []
    },
    {
      "cell_type": "markdown",
      "metadata": {
        "id": "h7fqNyDt6uQQ"
      },
      "source": [
        "## Dataset Operations"
      ]
    },
    {
      "cell_type": "markdown",
      "metadata": {
        "id": "rdgRzouI9mDB"
      },
      "source": [
        ""
      ]
    },
    {
      "cell_type": "markdown",
      "metadata": {
        "id": "6EoFFkrT6uQQ"
      },
      "source": [
        "For this section, we will use the sets below to practice some practical dataset operations."
      ]
    },
    {
      "cell_type": "code",
      "metadata": {
        "id": "hf2q29VW6uQQ"
      },
      "source": [
        "cpe_courses = [\"Object-Oriented Programming\", \"Data Structures and Algorithms\", \"Discrete Mathematics\", \"Linear Algebra\",\n",
        "               \"Database Management\",\"Logic Circuits\", \"Computer Automation\",\"Digital Signals Processing\", \"Computer System Architecture and Organization\"]\n",
        "cs_courses = [\"Object-Oriented Programming\", \"Data Structures and Algorithms\", \"Automata\", \"Programming Language Theory\",\n",
        "             \"Discrete Mathematics\", \"Database Management\", \"Human Computer Interaction\", \"Information Security\", \"Information Management\"]"
      ],
      "execution_count": null,
      "outputs": []
    },
    {
      "cell_type": "code",
      "metadata": {
        "id": "yH6_IYrN6uQS"
      },
      "source": [
        "cpe = set(cpe_courses)\n",
        "cs = set(cs_courses)\n"
      ],
      "execution_count": null,
      "outputs": []
    },
    {
      "cell_type": "markdown",
      "metadata": {
        "id": "zmNjyOek6uQU"
      },
      "source": [
        "### Inner Join"
      ]
    },
    {
      "cell_type": "code",
      "metadata": {
        "id": "_-JaXB4d6uQU",
        "outputId": "a7b13966-ee5a-4cd6-9d2e-a79753566a10"
      },
      "source": [
        "## Find the common things between the sets\n",
        "## Intersection\n",
        "common = cpe.intersection(cs)\n",
        "common ## inner join"
      ],
      "execution_count": null,
      "outputs": [
        {
          "output_type": "execute_result",
          "data": {
            "text/plain": [
              "{'Data Structures and Algorithms',\n",
              " 'Database Management',\n",
              " 'Discrete Mathematics',\n",
              " 'Object-Oriented Programming'}"
            ]
          },
          "metadata": {
            "tags": []
          },
          "execution_count": 40
        }
      ]
    },
    {
      "cell_type": "markdown",
      "metadata": {
        "id": "lbYWfGOC6uQW"
      },
      "source": [
        "### Left Join"
      ]
    },
    {
      "cell_type": "code",
      "metadata": {
        "id": "MImcRoWB6uQW",
        "outputId": "9911227d-35e7-4afe-f03c-9c86276ba54c"
      },
      "source": [
        "cpe_ljoin = common.union(cpe)\n",
        "cpe_ljoin"
      ],
      "execution_count": null,
      "outputs": [
        {
          "output_type": "execute_result",
          "data": {
            "text/plain": [
              "{'Computer Automation',\n",
              " 'Computer System Architecture and Organization',\n",
              " 'Data Structures and Algorithms',\n",
              " 'Database Management',\n",
              " 'Digital Signals Processing',\n",
              " 'Discrete Mathematics',\n",
              " 'Linear Algebra',\n",
              " 'Logic Circuits',\n",
              " 'Object-Oriented Programming'}"
            ]
          },
          "metadata": {
            "tags": []
          },
          "execution_count": 41
        }
      ]
    },
    {
      "cell_type": "markdown",
      "metadata": {
        "id": "s2NMglso6uQY"
      },
      "source": [
        "### Right Join"
      ]
    },
    {
      "cell_type": "code",
      "metadata": {
        "id": "3GbDNCmF6uQY",
        "outputId": "e20001fa-7286-49ea-8cfd-e1d32039ea74"
      },
      "source": [
        "cs_rjoin = common.union(cs)\n",
        "cs_rjoin"
      ],
      "execution_count": null,
      "outputs": [
        {
          "output_type": "execute_result",
          "data": {
            "text/plain": [
              "{'Automata',\n",
              " 'Data Structures and Algorithms',\n",
              " 'Database Management',\n",
              " 'Discrete Mathematics',\n",
              " 'Human Computer Interaction',\n",
              " 'Information Management',\n",
              " 'Information Security',\n",
              " 'Object-Oriented Programming',\n",
              " 'Programming Language Theory'}"
            ]
          },
          "metadata": {
            "tags": []
          },
          "execution_count": 42
        }
      ]
    },
    {
      "cell_type": "markdown",
      "metadata": {
        "id": "4VXdPurQ6uQa"
      },
      "source": [
        "### Left Exclusive Join"
      ]
    },
    {
      "cell_type": "code",
      "metadata": {
        "id": "IPqckXlo6uQb",
        "outputId": "71fc77fb-c9d8-4a1a-fd06-dc086c267b8a"
      },
      "source": [
        "cpe_exljoin = cpe.difference(cs)\n",
        "cpe_exljoin"
      ],
      "execution_count": null,
      "outputs": [
        {
          "output_type": "execute_result",
          "data": {
            "text/plain": [
              "{'Computer Automation',\n",
              " 'Computer System Architecture and Organization',\n",
              " 'Digital Signals Processing',\n",
              " 'Linear Algebra',\n",
              " 'Logic Circuits'}"
            ]
          },
          "metadata": {
            "tags": []
          },
          "execution_count": 45
        }
      ]
    },
    {
      "cell_type": "markdown",
      "metadata": {
        "id": "HFyygGGi6uQc"
      },
      "source": [
        "### Right Exclusive Join"
      ]
    },
    {
      "cell_type": "code",
      "metadata": {
        "id": "0nDzCcBo6uQe",
        "outputId": "545512f8-cd93-4d92-ced5-6505411266bd"
      },
      "source": [
        "cs_exrjoin = cs.difference(cpe)\n",
        "cs_exrjoin"
      ],
      "execution_count": null,
      "outputs": [
        {
          "output_type": "execute_result",
          "data": {
            "text/plain": [
              "{'Automata',\n",
              " 'Human Computer Interaction',\n",
              " 'Information Management',\n",
              " 'Information Security',\n",
              " 'Programming Language Theory'}"
            ]
          },
          "metadata": {
            "tags": []
          },
          "execution_count": 46
        }
      ]
    },
    {
      "cell_type": "markdown",
      "metadata": {
        "id": "hjwSuB346uQg"
      },
      "source": [
        "### Full Outer Join"
      ]
    },
    {
      "cell_type": "code",
      "metadata": {
        "id": "72WsciZE6uQg",
        "outputId": "d9a1e2c8-fd5e-4ae4-ff6d-0d7becbc7746"
      },
      "source": [
        "## Union\n",
        "full_outer = cpe.union(cs)\n",
        "full_outer"
      ],
      "execution_count": null,
      "outputs": [
        {
          "output_type": "execute_result",
          "data": {
            "text/plain": [
              "{'Automata',\n",
              " 'Computer Automation',\n",
              " 'Computer System Architecture and Organization',\n",
              " 'Data Structures and Algorithms',\n",
              " 'Database Management',\n",
              " 'Digital Signals Processing',\n",
              " 'Discrete Mathematics',\n",
              " 'Human Computer Interaction',\n",
              " 'Information Management',\n",
              " 'Information Security',\n",
              " 'Linear Algebra',\n",
              " 'Logic Circuits',\n",
              " 'Object-Oriented Programming',\n",
              " 'Programming Language Theory'}"
            ]
          },
          "metadata": {
            "tags": []
          },
          "execution_count": 47
        }
      ]
    },
    {
      "cell_type": "markdown",
      "metadata": {
        "id": "gfj4OnQa6uQj"
      },
      "source": [
        "### Full Outer Exclusive Join"
      ]
    },
    {
      "cell_type": "code",
      "metadata": {
        "id": "kqNwwqsb6uQk",
        "outputId": "22943f48-8845-4e0f-aec4-a0c2562ba6a6"
      },
      "source": [
        "## XOR\n",
        "full_xouter = (cpe.difference(cs)).union(cs.difference(cpe))\n",
        "full_xouter"
      ],
      "execution_count": null,
      "outputs": [
        {
          "output_type": "execute_result",
          "data": {
            "text/plain": [
              "{'Automata',\n",
              " 'Computer Automation',\n",
              " 'Computer System Architecture and Organization',\n",
              " 'Digital Signals Processing',\n",
              " 'Human Computer Interaction',\n",
              " 'Information Management',\n",
              " 'Information Security',\n",
              " 'Linear Algebra',\n",
              " 'Logic Circuits',\n",
              " 'Programming Language Theory'}"
            ]
          },
          "metadata": {
            "tags": []
          },
          "execution_count": 48
        }
      ]
    },
    {
      "cell_type": "markdown",
      "metadata": {
        "id": "cpvpAFfk6uQm"
      },
      "source": [
        "## Scratch Area"
      ]
    },
    {
      "cell_type": "markdown",
      "metadata": {
        "id": "vpgyjPMc6uQm"
      },
      "source": [
        "You can use the area below to try your own code."
      ]
    },
    {
      "cell_type": "markdown",
      "metadata": {
        "id": "aOkbHfVEKsHg"
      },
      "source": [
        "# **Discrete Math for CpE**\n",
        "\n",
        "# **DisMath_CodeLab 2 : Set Theory**\n",
        "\n",
        "**Coded and submitted by**:\n",
        "\n",
        "***Columba, Lorenzo Miguel L.***\n",
        "\n",
        "58007"
      ]
    },
    {
      "cell_type": "markdown",
      "metadata": {
        "id": "XeFm1UWH7MeJ"
      },
      "source": [
        "## Dataset Operations"
      ]
    },
    {
      "cell_type": "markdown",
      "metadata": {
        "id": "cxFDU3HeIoGm"
      },
      "source": [
        "## Set in my  Fandom Assignment "
      ]
    },
    {
      "cell_type": "code",
      "metadata": {
        "id": "1wbOyniD6uQm"
      },
      "source": [
        "movies = ['Harry Potter and the Sorcerer’s Stone', 'Harry Potter and the Chamber of Secrets', \n",
        "         'Davinci Code','Angels and Demons', 'Inferno']\n",
        "authors = [ 'J.K. Rowling ', 'Dan Brown ']"
      ],
      "execution_count": 6,
      "outputs": []
    },
    {
      "cell_type": "code",
      "metadata": {
        "id": "2I73OCdj7eTi"
      },
      "source": [
        "movies = set(movies)\n",
        "authors = set(authors)"
      ],
      "execution_count": 7,
      "outputs": []
    },
    {
      "cell_type": "markdown",
      "metadata": {
        "id": "Il0DjyzP9gZ3"
      },
      "source": [
        "###Inner Join"
      ]
    },
    {
      "cell_type": "code",
      "metadata": {
        "id": "72QcHQGl84na",
        "outputId": "f954fa1b-e8ea-4159-975d-c1e8fd846f16",
        "colab": {
          "base_uri": "https://localhost:8080/"
        }
      },
      "source": [
        "\n",
        "common =movies.intersection(authors)\n",
        "common"
      ],
      "execution_count": 8,
      "outputs": [
        {
          "output_type": "execute_result",
          "data": {
            "text/plain": [
              "set()"
            ]
          },
          "metadata": {
            "tags": []
          },
          "execution_count": 8
        }
      ]
    },
    {
      "cell_type": "markdown",
      "metadata": {
        "id": "UhH-ptdn98E4"
      },
      "source": [
        "### Left Join"
      ]
    },
    {
      "cell_type": "code",
      "metadata": {
        "id": "dsUQJ-L49IpW",
        "outputId": "81029df7-b539-4ade-99f8-e25c5ea8edd1",
        "colab": {
          "base_uri": "https://localhost:8080/"
        }
      },
      "source": [
        "# Similar to the set of movies.\n",
        "movies_ljoin = common.union(movies)\n",
        "movies_ljoin"
      ],
      "execution_count": 9,
      "outputs": [
        {
          "output_type": "execute_result",
          "data": {
            "text/plain": [
              "{' Davinci Code',\n",
              " 'Angels and Demons',\n",
              " 'Harry Potter and the Chamber of Secrets',\n",
              " 'Harry Potter and the Sorcerer’s Stone',\n",
              " 'Inferno'}"
            ]
          },
          "metadata": {
            "tags": []
          },
          "execution_count": 9
        }
      ]
    },
    {
      "cell_type": "markdown",
      "metadata": {
        "id": "aGcWDEGh-B0P"
      },
      "source": [
        "### Right Join"
      ]
    },
    {
      "cell_type": "code",
      "metadata": {
        "id": "yw1Dk_mL9Lq9",
        "outputId": "04c5d4ac-a512-40ad-b22c-79d829320083",
        "colab": {
          "base_uri": "https://localhost:8080/"
        }
      },
      "source": [
        "# Similar to the set of Authors.\n",
        "authors_rjoin = common.union(authors)\n",
        "authors_rjoin"
      ],
      "execution_count": 10,
      "outputs": [
        {
          "output_type": "execute_result",
          "data": {
            "text/plain": [
              "{' Dan Brown ', 'J.K. Rowling '}"
            ]
          },
          "metadata": {
            "tags": []
          },
          "execution_count": 10
        }
      ]
    },
    {
      "cell_type": "markdown",
      "metadata": {
        "id": "megM5L-l-Vui"
      },
      "source": [
        "###Left Exclusive Join"
      ]
    },
    {
      "cell_type": "code",
      "metadata": {
        "id": "s5d6U6Gn-bVQ",
        "outputId": "b696d4cf-bdb9-4981-9e4e-328a092c0418",
        "colab": {
          "base_uri": "https://localhost:8080/"
        }
      },
      "source": [
        "# Subtracting  a Function \n",
        "# A unique values in the left side which is the movies from authors\n",
        "movies_exljoin = movies.difference(authors)\n",
        "movies_exljoin"
      ],
      "execution_count": 11,
      "outputs": [
        {
          "output_type": "execute_result",
          "data": {
            "text/plain": [
              "{' Davinci Code',\n",
              " 'Angels and Demons',\n",
              " 'Harry Potter and the Chamber of Secrets',\n",
              " 'Harry Potter and the Sorcerer’s Stone',\n",
              " 'Inferno'}"
            ]
          },
          "metadata": {
            "tags": []
          },
          "execution_count": 11
        }
      ]
    },
    {
      "cell_type": "markdown",
      "metadata": {
        "id": "N0W6Npoi-mku"
      },
      "source": [
        "###Right Exclusive Join"
      ]
    },
    {
      "cell_type": "code",
      "metadata": {
        "id": "vJQN_2j0-uje",
        "outputId": "755c16a3-fab7-4360-e21c-d824fc7d2a6c",
        "colab": {
          "base_uri": "https://localhost:8080/"
        }
      },
      "source": [
        "# Subtracting a Function \n",
        "# Unique values in the right side which is the authors from movies\n",
        "authors_exrjoin = authors.difference(movies)\n",
        "authors_exrjoin"
      ],
      "execution_count": 12,
      "outputs": [
        {
          "output_type": "execute_result",
          "data": {
            "text/plain": [
              "{' Dan Brown ', 'J.K. Rowling '}"
            ]
          },
          "metadata": {
            "tags": []
          },
          "execution_count": 12
        }
      ]
    },
    {
      "cell_type": "markdown",
      "metadata": {
        "id": "WkHHshqY-6aO"
      },
      "source": [
        "###Full Outer Join"
      ]
    },
    {
      "cell_type": "code",
      "metadata": {
        "id": "rZaS2dSP_CQ2",
        "outputId": "d7ecb75c-c93f-479e-9914-d16990895cb4",
        "colab": {
          "base_uri": "https://localhost:8080/"
        }
      },
      "source": [
        "# Union \n",
        "# Combination of the two sets.\n",
        "full_outer = movies.union(authors)\n",
        "full_outer"
      ],
      "execution_count": 13,
      "outputs": [
        {
          "output_type": "execute_result",
          "data": {
            "text/plain": [
              "{' Dan Brown ',\n",
              " ' Davinci Code',\n",
              " 'Angels and Demons',\n",
              " 'Harry Potter and the Chamber of Secrets',\n",
              " 'Harry Potter and the Sorcerer’s Stone',\n",
              " 'Inferno',\n",
              " 'J.K. Rowling '}"
            ]
          },
          "metadata": {
            "tags": []
          },
          "execution_count": 13
        }
      ]
    },
    {
      "cell_type": "code",
      "metadata": {
        "id": "FaNsH3TW_WGn",
        "outputId": "fe9fd701-e071-4248-dabf-6bcb96bcb0a7",
        "colab": {
          "base_uri": "https://localhost:8080/"
        }
      },
      "source": [
        "full_outer = movies.union(authors) \n",
        "full_outer"
      ],
      "execution_count": 14,
      "outputs": [
        {
          "output_type": "execute_result",
          "data": {
            "text/plain": [
              "{' Dan Brown ',\n",
              " ' Davinci Code',\n",
              " 'Angels and Demons',\n",
              " 'Harry Potter and the Chamber of Secrets',\n",
              " 'Harry Potter and the Sorcerer’s Stone',\n",
              " 'Inferno',\n",
              " 'J.K. Rowling '}"
            ]
          },
          "metadata": {
            "tags": []
          },
          "execution_count": 14
        }
      ]
    },
    {
      "cell_type": "markdown",
      "metadata": {
        "id": "xCAy83Uh_z3J"
      },
      "source": [
        "### Full Outer Exclusive Join"
      ]
    },
    {
      "cell_type": "code",
      "metadata": {
        "id": "n7ME2oHL_zAv",
        "outputId": "c7bd1c41-ec45-4f0d-c915-18682fb9f19d",
        "colab": {
          "base_uri": "https://localhost:8080/"
        }
      },
      "source": [
        "#Full Outer Exclusive Join \n",
        "#XOR\n",
        "# Evertyhing in the two sets except the intersection\n",
        "full_xouter = (movies.difference(authors)).union(authors.difference(movies))\n",
        "full_xouter"
      ],
      "execution_count": 15,
      "outputs": [
        {
          "output_type": "execute_result",
          "data": {
            "text/plain": [
              "{' Dan Brown ',\n",
              " ' Davinci Code',\n",
              " 'Angels and Demons',\n",
              " 'Harry Potter and the Chamber of Secrets',\n",
              " 'Harry Potter and the Sorcerer’s Stone',\n",
              " 'Inferno',\n",
              " 'J.K. Rowling '}"
            ]
          },
          "metadata": {
            "tags": []
          },
          "execution_count": 15
        }
      ]
    },
    {
      "cell_type": "code",
      "metadata": {
        "id": "qlKDKC26KFZm",
        "outputId": "d4fac836-8a67-41ed-e1ca-a74340352b3e",
        "colab": {
          "base_uri": "https://localhost:8080/"
        }
      },
      "source": [
        "#Other Method for XOR\n",
        "full_xouter =  movies_exljoin.union(authors_exrjoin)\n",
        "full_xouter"
      ],
      "execution_count": 16,
      "outputs": [
        {
          "output_type": "execute_result",
          "data": {
            "text/plain": [
              "{' Dan Brown ',\n",
              " ' Davinci Code',\n",
              " 'Angels and Demons',\n",
              " 'Harry Potter and the Chamber of Secrets',\n",
              " 'Harry Potter and the Sorcerer’s Stone',\n",
              " 'Inferno',\n",
              " 'J.K. Rowling '}"
            ]
          },
          "metadata": {
            "tags": []
          },
          "execution_count": 16
        }
      ]
    },
    {
      "cell_type": "markdown",
      "metadata": {
        "id": "CEqKJpbhAJAG"
      },
      "source": [
        "### This part is exceptional I just want to create another set of my examples."
      ]
    },
    {
      "cell_type": "code",
      "metadata": {
        "id": "ltMCDbW-B8EX"
      },
      "source": [
        "#Seaons in two different country  \n",
        "Europe = ['Spring season', 'Summer season', 'Autumn season', 'Winter season']\n",
        "SouthKorea = ['Fall season', 'Spring season', 'Summer season', 'Winter season']\n"
      ],
      "execution_count": null,
      "outputs": []
    },
    {
      "cell_type": "code",
      "metadata": {
        "id": "DL7a4xAeC3lK"
      },
      "source": [
        "eu = set(Europe)\n",
        "sk = set(SouthKorea)"
      ],
      "execution_count": null,
      "outputs": []
    },
    {
      "cell_type": "code",
      "metadata": {
        "id": "xl7BcUoFDDI-",
        "outputId": "c8664fc0-fd58-4351-88cd-e8aea1af526b",
        "colab": {
          "base_uri": "https://localhost:8080/"
        }
      },
      "source": [
        "# Inner Join\n",
        "#Intersection \n",
        "common = eu.intersection(sk)\n",
        "common"
      ],
      "execution_count": null,
      "outputs": [
        {
          "output_type": "execute_result",
          "data": {
            "text/plain": [
              "{'Spring season', 'Summer season', 'Winter season'}"
            ]
          },
          "metadata": {
            "tags": []
          },
          "execution_count": 28
        }
      ]
    },
    {
      "cell_type": "code",
      "metadata": {
        "id": "R1wXthc3Dko2",
        "outputId": "9bc2fece-b6be-4174-a3ea-ed2d5bee24df",
        "colab": {
          "base_uri": "https://localhost:8080/"
        }
      },
      "source": [
        "#Left Join\n",
        "#Similar to the set of Europe seasons\n",
        "eu_ljoin = common.union(eu)\n",
        "eu_ljoin"
      ],
      "execution_count": null,
      "outputs": [
        {
          "output_type": "execute_result",
          "data": {
            "text/plain": [
              "{'Autumn season', 'Spring season', 'Summer season', 'Winter season'}"
            ]
          },
          "metadata": {
            "tags": []
          },
          "execution_count": 29
        }
      ]
    },
    {
      "cell_type": "code",
      "metadata": {
        "id": "strvtDVCFHT4",
        "outputId": "7d5c1201-7b5a-4dea-9d72-fbc0ff906222",
        "colab": {
          "base_uri": "https://localhost:8080/"
        }
      },
      "source": [
        "# Right Join\n",
        "# Similar to the set of South Korea seasons\n",
        "sk_rjoin = common.union(sk)\n",
        "sk_rjoin"
      ],
      "execution_count": null,
      "outputs": [
        {
          "output_type": "execute_result",
          "data": {
            "text/plain": [
              "{'Fall season', 'Spring season', 'Summer season', 'Winter season'}"
            ]
          },
          "metadata": {
            "tags": []
          },
          "execution_count": 32
        }
      ]
    },
    {
      "cell_type": "code",
      "metadata": {
        "id": "mwKLuNhMFT7n",
        "outputId": "bc33f25d-7172-413c-9b99-48e5f6a9376b",
        "colab": {
          "base_uri": "https://localhost:8080/"
        }
      },
      "source": [
        "#Left Exclusive Join\n",
        "# Subtract Function \n",
        "# Unique values in the leftside which is the Europe seasons from South Korea seasons\n",
        "eu_exljoin_seasons = eu.difference(sk)\n",
        "eu_exljoin_seasons"
      ],
      "execution_count": null,
      "outputs": [
        {
          "output_type": "execute_result",
          "data": {
            "text/plain": [
              "{'Autumn season'}"
            ]
          },
          "metadata": {
            "tags": []
          },
          "execution_count": 33
        }
      ]
    },
    {
      "cell_type": "code",
      "metadata": {
        "id": "b6B-XvhnGXMI",
        "outputId": "802ab6b3-9002-489a-e574-9b3bf457bddb",
        "colab": {
          "base_uri": "https://localhost:8080/"
        }
      },
      "source": [
        "#Left Exclusive Join\n",
        "# Subtract Function \n",
        "# Unique values in the leftside which is the South Korea seasons from South Korea season\n",
        "sk_exrjoin = sk.difference(eu)\n",
        "sk_exrjoin"
      ],
      "execution_count": null,
      "outputs": [
        {
          "output_type": "execute_result",
          "data": {
            "text/plain": [
              "{'Fall season'}"
            ]
          },
          "metadata": {
            "tags": []
          },
          "execution_count": 35
        }
      ]
    },
    {
      "cell_type": "code",
      "metadata": {
        "id": "1xRPhK_tGlLd",
        "outputId": "6b940042-54f8-419d-f0a7-63dbf98589af",
        "colab": {
          "base_uri": "https://localhost:8080/"
        }
      },
      "source": [
        "#Full Outer \n",
        "#Union\n",
        "full_outer= eu.union(sk)\n",
        "full_outer"
      ],
      "execution_count": null,
      "outputs": [
        {
          "output_type": "execute_result",
          "data": {
            "text/plain": [
              "{'Autumn season',\n",
              " 'Fall season',\n",
              " 'Spring season',\n",
              " 'Summer season',\n",
              " 'Winter season'}"
            ]
          },
          "metadata": {
            "tags": []
          },
          "execution_count": 38
        }
      ]
    },
    {
      "cell_type": "code",
      "metadata": {
        "id": "du6jmXfIHX7l",
        "outputId": "198f8f4f-4106-4ff8-ed0a-0b6dafdcd959",
        "colab": {
          "base_uri": "https://localhost:8080/"
        }
      },
      "source": [
        "#Full Outer Exclusive Join\n",
        "#XOR\n",
        "# Evertyhing in the two sets except the intersection\n",
        "full_xouter = (eu.difference(sk)).union(sk.difference(eu))\n",
        "full_xouter\n"
      ],
      "execution_count": null,
      "outputs": [
        {
          "output_type": "execute_result",
          "data": {
            "text/plain": [
              "{'Autumn season', 'Fall season'}"
            ]
          },
          "metadata": {
            "tags": []
          },
          "execution_count": 40
        }
      ]
    },
    {
      "cell_type": "code",
      "metadata": {
        "id": "q54Me6RNH2Q-",
        "outputId": "9911924c-e766-46ea-91b1-f9b54ae6c885",
        "colab": {
          "base_uri": "https://localhost:8080/"
        }
      },
      "source": [
        "# Other Method in Full Outer Exclusive Join\n",
        "full_xouter = eu_exljoin.union(sk_exrjoin)\n",
        "full_xouter"
      ],
      "execution_count": null,
      "outputs": [
        {
          "output_type": "execute_result",
          "data": {
            "text/plain": [
              "{'Autumn season', 'Fall season'}"
            ]
          },
          "metadata": {
            "tags": []
          },
          "execution_count": 41
        }
      ]
    }
  ]
}